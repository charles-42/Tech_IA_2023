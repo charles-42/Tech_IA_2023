{
 "cells": [
  {
   "cell_type": "markdown",
   "metadata": {},
   "source": [
    "# Les fonctions"
   ]
  },
  {
   "cell_type": "markdown",
   "metadata": {},
   "source": [
    "Pour les autres fonctions built-in : https://docs.python.org/3/library/functions.html#help"
   ]
  },
  {
   "cell_type": "markdown",
   "metadata": {},
   "source": [
    "Une fonction est un bloc de code avec un but spécifique auquel vous pouvez donner un nom. \n",
    "- Elles sont dans un premier temps définies \n",
    "- Puis exécuter. \n",
    "Quand vous appelez une fonction, vous exécutez le code qu’elle contient. Les fonctions vous laissent saisir des paramètres pour exécuter le même code sur différentes valeurs."
   ]
  },
  {
   "cell_type": "markdown",
   "metadata": {},
   "source": [
    "## Les fonctions de base"
   ]
  },
  {
   "cell_type": "markdown",
   "metadata": {},
   "source": [
    "Certaines fonctions sont déja définies dans python, on en a déja rencontré quelques unes:\n",
    "- len(x)\n",
    "- type(x)\n",
    "- max(x)"
   ]
  },
  {
   "cell_type": "markdown",
   "metadata": {},
   "source": [
    "Pour savoir à quoi sert une fonction (ou une classe) il existe une autre fonction:"
   ]
  },
  {
   "cell_type": "code",
   "execution_count": 4,
   "metadata": {},
   "outputs": [
    {
     "name": "stdout",
     "output_type": "stream",
     "text": [
      "Help on built-in function max in module builtins:\n",
      "\n",
      "max(...)\n",
      "    max(iterable, *[, default=obj, key=func]) -> value\n",
      "    max(arg1, arg2, *args, *[, key=func]) -> value\n",
      "    \n",
      "    With a single iterable argument, return its biggest item. The\n",
      "    default keyword-only argument specifies an object to return if\n",
      "    the provided iterable is empty.\n",
      "    With two or more arguments, return the largest argument.\n",
      "\n"
     ]
    }
   ],
   "source": [
    "help(max)"
   ]
  },
  {
   "cell_type": "markdown",
   "metadata": {},
   "source": [
    "## Définir une fonction"
   ]
  },
  {
   "cell_type": "markdown",
   "metadata": {},
   "source": [
    "Il est également possible de créer ses propres fonctions"
   ]
  },
  {
   "cell_type": "code",
   "execution_count": null,
   "metadata": {},
   "outputs": [],
   "source": [
    "\"\"\"Structure génrale d'une fontion\"\"\"\n",
    "\n",
    "# étape de la définission\n",
    "def fonction_name(parametre_1,parametre_2):\n",
    "    #instructions\n",
    "    return result\n",
    "\n",
    "# étape de l'appel\n",
    "resultat = fonction_name(\"quelque_chose\",\"autre_chose\")"
   ]
  },
  {
   "cell_type": "code",
   "execution_count": 8,
   "metadata": {},
   "outputs": [
    {
     "name": "stdout",
     "output_type": "stream",
     "text": [
      "7\n"
     ]
    }
   ],
   "source": [
    "\"\"\"Exemple\"\"\"\n",
    "\n",
    "def add(a,b):\n",
    "    calcul_intermediaire = a+b\n",
    "    return a+b\n",
    "#retourn a+b\n",
    "\n",
    "print(add(3,4))"
   ]
  },
  {
   "cell_type": "markdown",
   "metadata": {},
   "source": [
    "**`Exercice`**: "
   ]
  },
  {
   "cell_type": "code",
   "execution_count": 40,
   "metadata": {},
   "outputs": [
    {
     "data": {
      "text/plain": [
       "14"
      ]
     },
     "execution_count": 40,
     "metadata": {},
     "output_type": "execute_result"
    }
   ],
   "source": [
    "# Ecrivez une fonction qui permet de calculer le produit des éléments d'une liste contenant des integers.\n",
    "#def produit_entiers(liste_entiers):\n",
    "    # écrivez le code ici\n",
    "\n",
    "liste_en = [1, 6, 8, 7]\n",
    "\n",
    "return_value = 2\n",
    "\n",
    "\n",
    "def produits_entiers(liste_en):\n",
    "\n",
    "    for element in liste_en:\n",
    "        produit = element*return_value\n",
    "    return produit\n",
    "\n",
    "produits_entiers(liste_en)\n"
   ]
  },
  {
   "cell_type": "code",
   "execution_count": 28,
   "metadata": {},
   "outputs": [],
   "source": [
    "#Solution du Prof\n",
    "\n",
    "def produit_entiers(liste_entiers):\n",
    "    #declarer variable retour\n",
    "    return_value = 2 #ou liste_entiers[0]\n",
    "\n",
    "    #multiplier chaque élément\n",
    "    for selected_value in liste_entiers:\n",
    "        return_value *= selected_value \n",
    "\n",
    "    #retoruner les valeurs\n",
    "    return return_value"
   ]
  },
  {
   "cell_type": "code",
   "execution_count": 29,
   "metadata": {},
   "outputs": [
    {
     "name": "stdout",
     "output_type": "stream",
     "text": [
      "48\n"
     ]
    }
   ],
   "source": [
    "liste_a_calculer = [1, 2, 3, 4] #1*2, 2*2, 4*3, 12*4 (calcule évolue)\n",
    "result = produit_entiers(liste_a_calculer)\n",
    "print(result)"
   ]
  },
  {
   "cell_type": "code",
   "execution_count": 54,
   "metadata": {},
   "outputs": [],
   "source": [
    "#Solution du Prof\n",
    "\n",
    "def produit_entiers(liste_entiers):\n",
    "    #declarer variable retour\n",
    "    return_value = liste_entiers[0]\n",
    "\n",
    "    #multiplier chaque élément\n",
    "    for selected_value in liste_entiers[1:]:\n",
    "        print(type(selected_value))\n",
    "        return_value *= selected_value \n",
    "\n",
    "    #retoruner les valeurs\n",
    "    return return_value"
   ]
  },
  {
   "cell_type": "code",
   "execution_count": 55,
   "metadata": {},
   "outputs": [
    {
     "name": "stdout",
     "output_type": "stream",
     "text": [
      "<class 'float'>\n",
      "<class 'float'>\n",
      "2643.75\n"
     ]
    }
   ],
   "source": [
    "liste_a_calculer = [15, 14.1, 12.5] \n",
    "result = produit_entiers(liste_a_calculer)\n",
    "print(result)"
   ]
  },
  {
   "cell_type": "markdown",
   "metadata": {},
   "source": [
    "## Ecrire correctement ses fonctions avec la Pep8"
   ]
  },
  {
   "cell_type": "markdown",
   "metadata": {},
   "source": [
    "Une doctring est un ensemble de mots qui documente un bout de code. Elle commence par trois guillemets ouvrants, le commentaire que vous souhaitez apporter puis trois guillements fermants."
   ]
  },
  {
   "cell_type": "code",
   "execution_count": null,
   "metadata": {},
   "outputs": [],
   "source": [
    "Exemple :\n",
    "\n",
    "\"\"\" This is a doctring. I'm here to explain what the following code will do.\n",
    "Oh, I'm multiline too!\n",
    "\"\"\""
   ]
  },
  {
   "cell_type": "markdown",
   "metadata": {},
   "source": [
    "Selon la PEP 8, chaque partie de votre code devrait contenir une Doctring.\n",
    "- tous les modules publics\n",
    "- toutes les fonctions\n",
    "- toutes les classes\n",
    "- toutes les méthodes de ces classes"
   ]
  },
  {
   "cell_type": "code",
   "execution_count": 10,
   "metadata": {},
   "outputs": [],
   "source": [
    "def add(a,b):\n",
    "    \"\"\" \n",
    "    This fonction returns the sum of the two parameters\n",
    "\n",
    "    parameters\n",
    "    ----------\n",
    "    a: int\n",
    "    b: int\n",
    "    \"\"\"\n",
    "    aprime = abs(a)  # on prend la valeur absolue\n",
    "    bprime = abs(b)  \n",
    "    return a + b"
   ]
  },
  {
   "cell_type": "code",
   "execution_count": 11,
   "metadata": {},
   "outputs": [
    {
     "name": "stdout",
     "output_type": "stream",
     "text": [
      "Help on function add in module __main__:\n",
      "\n",
      "add(a, b)\n",
      "    This fonction returns the sum of the two parameters\n",
      "    \n",
      "    parameters\n",
      "    ----------\n",
      "    a: int\n",
      "    b: int\n",
      "\n"
     ]
    }
   ],
   "source": [
    "help(add)"
   ]
  },
  {
   "cell_type": "markdown",
   "metadata": {},
   "source": [
    "Cependant la Pep 8 nous demande également d'être concis dans nos commentaires et de ne pas commenter des évidences. Il faut donc se poser la question de savoir si ce que nous écrivons est évident pour quelqu'un qui n'a pas écrit le code (ici oui), si ce n'est pas évident alors il faut commenter"
   ]
  },
  {
   "cell_type": "markdown",
   "metadata": {},
   "source": [
    "**`règles d'écriture`**:\n",
    "- fonctions: minuscules et tiret du bas : my_function()\n",
    "- arguments des méthodes et fonctions : identique aux fonctions. my_function(param=False)  (attention pas d'esapce)"
   ]
  },
  {
   "cell_type": "markdown",
   "metadata": {},
   "source": [
    "## Définir des paramètres particuliers"
   ]
  },
  {
   "cell_type": "code",
   "execution_count": 14,
   "metadata": {},
   "outputs": [
    {
     "name": "stdout",
     "output_type": "stream",
     "text": [
      "28\n",
      "23\n",
      "23\n",
      "19\n"
     ]
    }
   ],
   "source": [
    "# paramètre par défaut\n",
    "\n",
    "def add(a,b=10,c=3,d=5):\n",
    "    return a+b+c+d\n",
    "\n",
    "print(add(7,d=8))\n",
    "print(add(7,8))\n",
    "print(add(5))\n",
    "print(add(a=5,b=6))"
   ]
  },
  {
   "cell_type": "code",
   "execution_count": 22,
   "metadata": {},
   "outputs": [
    {
     "name": "stdout",
     "output_type": "stream",
     "text": [
      "test: ['a', 'b', 'c']\n"
     ]
    }
   ],
   "source": [
    "liste=[\"a\",\"b\",\"c\"]\n",
    "\n",
    "\" j'affiche les premieres lettres de l'alphabet {} , {}, {}\".format(\"a\",\"b\",\"c\")\n",
    "\" j'affiche les premieres lettres de l'alphabet {} , {}, {}\".format(*liste)\n",
    "print(f\"test: {liste}\")"
   ]
  },
  {
   "cell_type": "code",
   "execution_count": 19,
   "metadata": {},
   "outputs": [
    {
     "ename": "TypeError",
     "evalue": "unsupported operand type(s) for ** or pow(): 'list' and 'int'",
     "output_type": "error",
     "traceback": [
      "\u001b[1;31m---------------------------------------------------------------------------\u001b[0m",
      "\u001b[1;31mTypeError\u001b[0m                                 Traceback (most recent call last)",
      "Cell \u001b[1;32mIn[19], line 6\u001b[0m\n\u001b[0;32m      3\u001b[0m     squared \u001b[38;5;241m=\u001b[39m numbers\u001b[38;5;241m*\u001b[39m\u001b[38;5;241m*\u001b[39m\u001b[38;5;241m2\u001b[39m\n\u001b[0;32m      4\u001b[0m     \u001b[38;5;28;01mreturn\u001b[39;00m squared\n\u001b[1;32m----> 6\u001b[0m result \u001b[38;5;241m=\u001b[39m \u001b[43msquare_\u001b[49m\u001b[43m(\u001b[49m\u001b[43mnumbers\u001b[49m\u001b[43m)\u001b[49m\n\u001b[0;32m      7\u001b[0m \u001b[38;5;28mprint\u001b[39m(result)\n",
      "Cell \u001b[1;32mIn[19], line 3\u001b[0m, in \u001b[0;36msquare_\u001b[1;34m(numbers)\u001b[0m\n\u001b[0;32m      2\u001b[0m \u001b[38;5;28;01mdef\u001b[39;00m \u001b[38;5;21msquare_\u001b[39m(numbers):\n\u001b[1;32m----> 3\u001b[0m     squared \u001b[38;5;241m=\u001b[39m \u001b[43mnumbers\u001b[49m\u001b[38;5;241;43m*\u001b[39;49m\u001b[38;5;241;43m*\u001b[39;49m\u001b[38;5;241;43m2\u001b[39;49m\n\u001b[0;32m      4\u001b[0m     \u001b[38;5;28;01mreturn\u001b[39;00m squared\n",
      "\u001b[1;31mTypeError\u001b[0m: unsupported operand type(s) for ** or pow(): 'list' and 'int'"
     ]
    }
   ],
   "source": [
    "numbers = [1, 2, 2]\n",
    "def square_(numbers):\n",
    "    squared = numbers**2\n",
    "    return squared\n",
    "\n",
    "result = square_(numbers)\n",
    "print(result)"
   ]
  },
  {
   "cell_type": "code",
   "execution_count": 34,
   "metadata": {},
   "outputs": [
    {
     "name": "stdout",
     "output_type": "stream",
     "text": [
      "Odd\n",
      "1\n"
     ]
    }
   ],
   "source": [
    "#Execices done on code wars\n",
    "def even_or_odd(number):\n",
    "    \n",
    "    if not number %2 :\n",
    "        print(\"Even\")\n",
    "\n",
    "    else:\n",
    "        print(\"Odd\")\n",
    "    print(number %2)      \n",
    "    return\n",
    "\n",
    "\n",
    "even_or_odd(57)\n",
    "\n"
   ]
  },
  {
   "cell_type": "code",
   "execution_count": 37,
   "metadata": {},
   "outputs": [
    {
     "data": {
      "text/plain": [
       "'0b1110'"
      ]
     },
     "execution_count": 37,
     "metadata": {},
     "output_type": "execute_result"
    }
   ],
   "source": [
    "\n",
    "def binary_sum(a, b):\n",
    "    \n",
    "    add_binary = bin(a+b)\n",
    "    return add_binary\n",
    "\n",
    "\n",
    "binary_sum(5, 9)"
   ]
  },
  {
   "cell_type": "code",
   "execution_count": null,
   "metadata": {},
   "outputs": [],
   "source": [
    "\n",
    "\n",
    "def bmi(weight, height):\n",
    "    bmi_calcul = (weight/height)**2\n",
    "    bmi_result = bmi_calcul\n",
    "    \n",
    "    if bmi_result <= 18.5:\n",
    "        return \"Underweight\"\n",
    "    elif bmi_result >= 18.6 and bmi_result <= 25.0:\n",
    "        return \"Normal\"\n",
    "    elif bmi_result >=25.1 and bmi_result <= 30.0:\n",
    "        return \"Overweight\"\n",
    "    else:\n",
    "        return \"Obese\"\n",
    "\n",
    "\n",
    "print(bmi(80, 173))\n",
    "    "
   ]
  },
  {
   "cell_type": "code",
   "execution_count": null,
   "metadata": {},
   "outputs": [],
   "source": [
    "sheep_present = True\n",
    "\n",
    "def count_sheeps(sheep):\n",
    " \n",
    "    for sheep_present .\n",
    "        return True\n",
    "    else:\n",
    "        return False\n"
   ]
  },
  {
   "cell_type": "code",
   "execution_count": null,
   "metadata": {},
   "outputs": [],
   "source": [
    "Conversion Température:\n",
    "Créez une fonction qui permet de convertir des degrés Celsius en Fahrenheit et vice versa\n",
    "\n",
    "convert(18, C) -> Converti 18°C en Fahrenheit \n",
    "convert(72, F) -> Converti 72°F en Celcius\n",
    "\n",
    "Calcul moyenne\n",
    "A partir des éléments suivants :\n",
    "| Prénom   | Mathématiques (Note 1) | Mathématiques (Note 2) | Français (Note 1) | Français (Note 2) | Français (Note 3) | Histoire |\n",
    "|----------|------------------------|------------------------|-------------------|-------------------|-------------------|----------|\n",
    "| Lucas    | 17                     | 18                     | 15                | 16                | 19                | 17       |\n",
    "| Emma     | 18                     | 17                     | 19                | 18                | 18                | 16       |\n",
    "| Gabriel  | 16                     | 17                     | 16                | 15                | 17                | 18       |\n",
    "| Mia      | 18                     | 17                     | 16                | 18                | 18                | 15       |\n",
    "| Noah     | 17                     | 18                     | 18                | 18                | 16                | 17       |\n",
    "| Charlotte| 18                     | 18                     | 19                | 17                | 19                | 17       |\n",
    "| Ethan    | 16                     | 17                     | 15                | 16                | 15                | 19       |\n",
    "| Sophia   | 19                     | 18                     | 17                | 19                | 18                | 15       |\n",
    "| Liam     | 18                     | 17                     | 18                | 19                | 17                | 18       |\n",
    "| Olivia   | 16                     | 18                     | 17                | 16                | 18                | 16       |\n",
    "\n",
    "Calculer la moyenne en francais, en maths, en histoire et la moyenne générale\n",
    "Ordonner la liste d'élèves en fonctions des moyennes en francais, en maths, en histoire et générale"
   ]
  },
  {
   "cell_type": "code",
   "execution_count": 3,
   "metadata": {},
   "outputs": [
    {
     "ename": "NameError",
     "evalue": "name 'world' is not defined",
     "output_type": "error",
     "traceback": [
      "\u001b[1;31m---------------------------------------------------------------------------\u001b[0m",
      "\u001b[1;31mNameError\u001b[0m                                 Traceback (most recent call last)",
      "Cell \u001b[1;32mIn[3], line 9\u001b[0m\n\u001b[0;32m      5\u001b[0m     string \u001b[38;5;241m=\u001b[39m string\u001b[38;5;241m.\u001b[39msort()\n\u001b[0;32m      7\u001b[0m     \u001b[38;5;28;01mreturn\u001b[39;00m string\n\u001b[1;32m----> 9\u001b[0m solution(\u001b[43mworld\u001b[49m)\n\u001b[0;32m     10\u001b[0m \u001b[38;5;28mprint\u001b[39m(solution)\n",
      "\u001b[1;31mNameError\u001b[0m: name 'world' is not defined"
     ]
    }
   ],
   "source": [
    "string = str()\n",
    "\n",
    "def solution(string):\n",
    "    \n",
    "    string = string.sort()\n",
    "    \n",
    "    return string\n",
    "\n",
    "solution(world)\n",
    "print(solution)"
   ]
  }
 ],
 "metadata": {
  "interpreter": {
   "hash": "4822798685b95d90cac6b9eac85a216cd3011e561666c6311e8088bbadca8e0f"
  },
  "kernelspec": {
   "display_name": "Python 3",
   "language": "python",
   "name": "python3"
  },
  "language_info": {
   "codemirror_mode": {
    "name": "ipython",
    "version": 3
   },
   "file_extension": ".py",
   "mimetype": "text/x-python",
   "name": "python",
   "nbconvert_exporter": "python",
   "pygments_lexer": "ipython3",
   "version": "3.12.1"
  }
 },
 "nbformat": 4,
 "nbformat_minor": 4
}
