{
 "cells": [
  {
   "cell_type": "markdown",
   "metadata": {},
   "source": [
    "# Importation: packages et fichiers"
   ]
  },
  {
   "cell_type": "markdown",
   "metadata": {},
   "source": [
    "## Présentation des packages"
   ]
  },
  {
   "cell_type": "markdown",
   "metadata": {},
   "source": [
    "Un package est un fichier ou un ensemble de fichier qui contient des fonctions et des classes qui peuvent être réutilisée dans d'autres programmes"
   ]
  },
  {
   "cell_type": "markdown",
   "metadata": {},
   "source": [
    "## Importer un package dans son environnement de dev depuis votre librairie de package"
   ]
  },
  {
   "cell_type": "markdown",
   "metadata": {},
   "source": [
    "Pour utiliser un package il faut l'importer depuis votre librairie de package.  \n",
    "Celle-ci est constituée par python et par anaconda  "
   ]
  },
  {
   "cell_type": "code",
   "execution_count": 1,
   "metadata": {},
   "outputs": [
    {
     "name": "stdout",
     "output_type": "stream",
     "text": [
      "5\n"
     ]
    }
   ],
   "source": [
    "# exemple d'utilisation\n",
    "import math \n",
    "\n",
    "x = 5.8999\n",
    "print( math.floor(x))"
   ]
  },
  {
   "cell_type": "code",
   "execution_count": 2,
   "metadata": {},
   "outputs": [
    {
     "ename": "NameError",
     "evalue": "name 'floor' is not defined",
     "output_type": "error",
     "traceback": [
      "\u001b[0;31m---------------------------------------------------------------------------\u001b[0m",
      "\u001b[0;31mNameError\u001b[0m                                 Traceback (most recent call last)",
      "\u001b[0;32m/var/folders/py/4rt338cj1ks4z3332m7l3f880000gp/T/ipykernel_49884/278667703.py\u001b[0m in \u001b[0;36m<module>\u001b[0;34m\u001b[0m\n\u001b[1;32m      1\u001b[0m \u001b[0;31m# en utilisant import math on est obligé de préciser le nom du package:\u001b[0m\u001b[0;34m\u001b[0m\u001b[0;34m\u001b[0m\u001b[0;34m\u001b[0m\u001b[0m\n\u001b[0;32m----> 2\u001b[0;31m \u001b[0mfloor\u001b[0m\u001b[0;34m(\u001b[0m\u001b[0;36m5.8999\u001b[0m\u001b[0;34m)\u001b[0m\u001b[0;34m\u001b[0m\u001b[0;34m\u001b[0m\u001b[0m\n\u001b[0m",
      "\u001b[0;31mNameError\u001b[0m: name 'floor' is not defined"
     ]
    }
   ],
   "source": [
    "# en utilisant import math on est obligé de préciser le nom du package:\n",
    "floor(5.8999)"
   ]
  },
  {
   "cell_type": "code",
   "execution_count": 4,
   "metadata": {},
   "outputs": [
    {
     "name": "stdout",
     "output_type": "stream",
     "text": [
      "5\n",
      "0.9244298774134548\n"
     ]
    }
   ],
   "source": [
    "\"\"\" il existe trois manières d'importer un package: deux légales et une illégale\"\"\"\n",
    "# LEGAL: importer tout un package en s'obligeant en indiquant le nom du package avant:\n",
    "import math as math\n",
    "x = math.floor(5.899999)\n",
    "\n",
    "\n",
    "# LEGAL: importer une partie d'un package sans devoir indiquer le nom du package avant de s'en servir:\n",
    "from random import randint\n",
    "y = randint(0,10)\n",
    "print(y)\n",
    "\n",
    "# ILLEGAL: importer tout un package sans devoir indiquer le nom du package avant de s'en servir:\n",
    "from random import *\n",
    "z = uniform(0,1)\n",
    "print(z)"
   ]
  },
  {
   "cell_type": "markdown",
   "metadata": {},
   "source": [
    "## Installer un package dans sa librairie de package puis l'importer"
   ]
  },
  {
   "cell_type": "markdown",
   "metadata": {},
   "source": [
    "Vous pouvez trouver des packages qui ne sont ni dans python ni anaconda"
   ]
  },
  {
   "cell_type": "code",
   "execution_count": 3,
   "metadata": {},
   "outputs": [
    {
     "ename": "ModuleNotFoundError",
     "evalue": "No module named 'pandas'",
     "output_type": "error",
     "traceback": [
      "\u001b[0;31m---------------------------------------------------------------------------\u001b[0m",
      "\u001b[0;31mModuleNotFoundError\u001b[0m                       Traceback (most recent call last)",
      "\u001b[0;32m/var/folders/py/4rt338cj1ks4z3332m7l3f880000gp/T/ipykernel_49884/3648170110.py\u001b[0m in \u001b[0;36m<module>\u001b[0;34m\u001b[0m\n\u001b[0;32m----> 1\u001b[0;31m \u001b[0;32mimport\u001b[0m \u001b[0mpandas\u001b[0m\u001b[0;34m\u001b[0m\u001b[0;34m\u001b[0m\u001b[0m\n\u001b[0m",
      "\u001b[0;31mModuleNotFoundError\u001b[0m: No module named 'pandas'"
     ]
    }
   ],
   "source": [
    "import pandas"
   ]
  },
  {
   "cell_type": "markdown",
   "metadata": {},
   "source": [
    "Vous devez auparavant installer ce package dans votre librairie de package à l'aide de la commande:\n",
    "- **`pip3 install pandas`**\n",
    "\n",
    "Cette commande doit être tapée dans votre terminal"
   ]
  },
  {
   "cell_type": "code",
   "execution_count": 6,
   "metadata": {},
   "outputs": [],
   "source": [
    "# vous pouvez ensuite l'importer dans votre environnement de dev\n",
    "import pipe"
   ]
  },
  {
   "cell_type": "markdown",
   "metadata": {},
   "source": [
    "## Se servir d'un package"
   ]
  },
  {
   "cell_type": "markdown",
   "metadata": {},
   "source": [
    "Pour connaitre comment se servir d'un package vous pouvez procéder en deux temps"
   ]
  },
  {
   "cell_type": "markdown",
   "metadata": {},
   "source": [
    "D'abord obtenir la liste des objets et fonctions dans ce package"
   ]
  },
  {
   "cell_type": "code",
   "execution_count": null,
   "metadata": {},
   "outputs": [],
   "source": [
    "dir(math)"
   ]
  },
  {
   "cell_type": "markdown",
   "metadata": {},
   "source": [
    "ensuite demander l'aide sur une fonction particulière"
   ]
  },
  {
   "cell_type": "code",
   "execution_count": 5,
   "metadata": {},
   "outputs": [
    {
     "name": "stdout",
     "output_type": "stream",
     "text": [
      "Help on built-in function tan in module math:\n",
      "\n",
      "tan(x, /)\n",
      "    Return the tangent of x (measured in radians).\n",
      "\n"
     ]
    }
   ],
   "source": [
    "help(math.tan)"
   ]
  },
  {
   "cell_type": "markdown",
   "metadata": {},
   "source": [
    "## Importer des fichiers et des packages qu'on a soit même créé."
   ]
  },
  {
   "cell_type": "markdown",
   "metadata": {},
   "source": [
    "Il existe une bonne pratique chez les developpeurs de créer leurs classes et leurs fonctions dans des fichiers séparées (normalement une classe ou une fonction par fichier). Pour pouvoir faire cela il faut pouvoir importer un fichier."
   ]
  },
  {
   "cell_type": "code",
   "execution_count": 7,
   "metadata": {},
   "outputs": [
    {
     "name": "stdout",
     "output_type": "stream",
     "text": [
      "this is a function from a same level file\n",
      "this is a function from a same level file\n"
     ]
    }
   ],
   "source": [
    "# il est assez facile d'importer une fonction du meme niveau\n",
    "\n",
    "from Same_level import same_level_function\n",
    "same_level_function(\"Same\")"
   ]
  },
  {
   "cell_type": "code",
   "execution_count": 8,
   "metadata": {},
   "outputs": [
    {
     "name": "stdout",
     "output_type": "stream",
     "text": [
      "I'm a child file function\n",
      "I'm a child file function\n"
     ]
    }
   ],
   "source": [
    "# De même pour un fichier enfant\n",
    "\n",
    "from child_folder.child_file import child_file_function\n",
    "child_file_function()"
   ]
  },
  {
   "cell_type": "code",
   "execution_count": null,
   "metadata": {},
   "outputs": [],
   "source": [
    "import sys\n",
    "from print import print\n",
    "pprint(sys.path)"
   ]
  },
  {
   "cell_type": "markdown",
   "metadata": {},
   "source": [
    "Dans l'autre sens ça se complique, voir le fichier child_folder/child_file.py"
   ]
  },
  {
   "cell_type": "markdown",
   "metadata": {},
   "source": [
    "**`Exercice`**: \n",
    "- Créer un dossier appelé \"exercice_package\"\n",
    "- Dans ce dossier créer fichier \"parent_file\" et définir une fonction multiply(a,b) qui permet de multiplier 2 entiers\n",
    "- Dans le dossier \" exercice_package\", créer un dossier appelé \"principal\" et dedans un fichier \"slevel\" ou vous définissez une fonction add(a,b)\n",
    "- Dans le dossier \"principal\", créer un dossier appelé \"child_folder\" et dedans un fichier appelé \"child\" ou vous définissez la fonction divide(a,b)\n",
    "- Enfin dans le dossier \"principal\", créer un fichier \"main\" ou vous calculerez l'arondi tronqué avec 2 chiffres derrière la virgule de (5 + 2 * 3 ) / 3  en utilisant les trois fonctions définies précédement. "
   ]
  },
  {
   "cell_type": "code",
   "execution_count": 1,
   "metadata": {},
   "outputs": [
    {
     "name": "stdout",
     "output_type": "stream",
     "text": [
      "Collecting pandasNote: you may need to restart the kernel to use updated packages.\n"
     ]
    },
    {
     "name": "stderr",
     "output_type": "stream",
     "text": [
      "  WARNING: The script f2py.exe is installed in 'c:\\Users\\Utilisateur\\AppData\\Local\\Programs\\Python\\Python312\\Scripts' which is not on PATH.\n",
      "  Consider adding this directory to PATH or, if you prefer to suppress this warning, use --no-warn-script-location.\n",
      "\n",
      "[notice] A new release of pip is available: 23.2.1 -> 23.3.1\n",
      "[notice] To update, run: python.exe -m pip install --upgrade pip\n"
     ]
    },
    {
     "name": "stdout",
     "output_type": "stream",
     "text": [
      "\n",
      "  Obtaining dependency information for pandas from https://files.pythonhosted.org/packages/ae/d9/3741b344f57484b423cd22194025a8489992ad9962196a62721ef9980045/pandas-2.1.4-cp312-cp312-win_amd64.whl.metadata\n",
      "  Downloading pandas-2.1.4-cp312-cp312-win_amd64.whl.metadata (18 kB)\n",
      "Collecting numpy<2,>=1.26.0 (from pandas)\n",
      "  Obtaining dependency information for numpy<2,>=1.26.0 from https://files.pythonhosted.org/packages/28/75/3b679b41713bb60e2e8f6e2f87be72c971c9e718b1c17b8f8749240ddca8/numpy-1.26.2-cp312-cp312-win_amd64.whl.metadata\n",
      "  Downloading numpy-1.26.2-cp312-cp312-win_amd64.whl.metadata (61 kB)\n",
      "     ---------------------------------------- 0.0/61.2 kB ? eta -:--:--\n",
      "     ------ --------------------------------- 10.2/61.2 kB ? eta -:--:--\n",
      "     ---------------------------------------- 61.2/61.2 kB 1.1 MB/s eta 0:00:00\n",
      "Requirement already satisfied: python-dateutil>=2.8.2 in c:\\users\\utilisateur\\appdata\\roaming\\python\\python312\\site-packages (from pandas) (2.8.2)\n",
      "Collecting pytz>=2020.1 (from pandas)\n",
      "  Obtaining dependency information for pytz>=2020.1 from https://files.pythonhosted.org/packages/32/4d/aaf7eff5deb402fd9a24a1449a8119f00d74ae9c2efa79f8ef9994261fc2/pytz-2023.3.post1-py2.py3-none-any.whl.metadata\n",
      "  Downloading pytz-2023.3.post1-py2.py3-none-any.whl.metadata (22 kB)\n",
      "Collecting tzdata>=2022.1 (from pandas)\n",
      "  Downloading tzdata-2023.3-py2.py3-none-any.whl (341 kB)\n",
      "     ---------------------------------------- 0.0/341.8 kB ? eta -:--:--\n",
      "     ------------------------------------  337.9/341.8 kB 10.6 MB/s eta 0:00:01\n",
      "     -------------------------------------- 341.8/341.8 kB 7.1 MB/s eta 0:00:00\n",
      "Requirement already satisfied: six>=1.5 in c:\\users\\utilisateur\\appdata\\roaming\\python\\python312\\site-packages (from python-dateutil>=2.8.2->pandas) (1.16.0)\n",
      "Downloading pandas-2.1.4-cp312-cp312-win_amd64.whl (10.5 MB)\n",
      "   ---------------------------------------- 0.0/10.5 MB ? eta -:--:--\n",
      "   -- ------------------------------------- 0.7/10.5 MB 15.3 MB/s eta 0:00:01\n",
      "   ---- ----------------------------------- 1.2/10.5 MB 13.1 MB/s eta 0:00:01\n",
      "   ------ --------------------------------- 1.7/10.5 MB 13.8 MB/s eta 0:00:01\n",
      "   --------- ------------------------------ 2.4/10.5 MB 13.7 MB/s eta 0:00:01\n",
      "   ---------- ----------------------------- 2.7/10.5 MB 11.7 MB/s eta 0:00:01\n",
      "   ------------ --------------------------- 3.3/10.5 MB 11.8 MB/s eta 0:00:01\n",
      "   -------------- ------------------------- 3.9/10.5 MB 12.4 MB/s eta 0:00:01\n",
      "   ----------------- ---------------------- 4.5/10.5 MB 12.0 MB/s eta 0:00:01\n",
      "   ------------------- -------------------- 5.2/10.5 MB 12.3 MB/s eta 0:00:01\n",
      "   ---------------------- ----------------- 5.8/10.5 MB 12.4 MB/s eta 0:00:01\n",
      "   ------------------------ --------------- 6.4/10.5 MB 12.3 MB/s eta 0:00:01\n",
      "   ------------------------- -------------- 6.8/10.5 MB 12.7 MB/s eta 0:00:01\n",
      "   --------------------------- ------------ 7.3/10.5 MB 12.3 MB/s eta 0:00:01\n",
      "   ------------------------------ --------- 8.0/10.5 MB 12.4 MB/s eta 0:00:01\n",
      "   --------------------------------- ------ 8.8/10.5 MB 12.8 MB/s eta 0:00:01\n",
      "   ------------------------------------ --- 9.5/10.5 MB 12.9 MB/s eta 0:00:01\n",
      "   ---------------------------------------  10.3/10.5 MB 13.1 MB/s eta 0:00:01\n",
      "   ---------------------------------------  10.5/10.5 MB 12.9 MB/s eta 0:00:01\n",
      "   ---------------------------------------- 10.5/10.5 MB 12.1 MB/s eta 0:00:00\n",
      "Downloading numpy-1.26.2-cp312-cp312-win_amd64.whl (15.5 MB)\n",
      "   ---------------------------------------- 0.0/15.5 MB ? eta -:--:--\n",
      "   - -------------------------------------- 0.6/15.5 MB 17.8 MB/s eta 0:00:01\n",
      "   --- ------------------------------------ 1.3/15.5 MB 16.7 MB/s eta 0:00:01\n",
      "   ----- ---------------------------------- 2.1/15.5 MB 17.0 MB/s eta 0:00:01\n",
      "   ------- -------------------------------- 2.9/15.5 MB 16.7 MB/s eta 0:00:01\n",
      "   --------- ------------------------------ 3.7/15.5 MB 17.0 MB/s eta 0:00:01\n",
      "   ----------- ---------------------------- 4.5/15.5 MB 16.7 MB/s eta 0:00:01\n",
      "   ------------- -------------------------- 5.2/15.5 MB 16.8 MB/s eta 0:00:01\n",
      "   -------------- ------------------------- 5.6/15.5 MB 15.5 MB/s eta 0:00:01\n",
      "   --------------- ------------------------ 6.0/15.5 MB 14.7 MB/s eta 0:00:01\n",
      "   ----------------- ---------------------- 6.6/15.5 MB 14.6 MB/s eta 0:00:01\n",
      "   ------------------- -------------------- 7.5/15.5 MB 15.0 MB/s eta 0:00:01\n",
      "   --------------------- ------------------ 8.3/15.5 MB 15.2 MB/s eta 0:00:01\n",
      "   ---------------------- ----------------- 8.8/15.5 MB 15.2 MB/s eta 0:00:01\n",
      "   ----------------------- ---------------- 9.2/15.5 MB 14.3 MB/s eta 0:00:01\n",
      "   ------------------------- -------------- 10.0/15.5 MB 14.6 MB/s eta 0:00:01\n",
      "   ---------------------------- ----------- 10.9/15.5 MB 14.9 MB/s eta 0:00:01\n",
      "   ------------------------------ --------- 11.6/15.5 MB 14.9 MB/s eta 0:00:01\n",
      "   -------------------------------- ------- 12.6/15.5 MB 14.9 MB/s eta 0:00:01\n",
      "   ---------------------------------- ----- 13.3/15.5 MB 14.9 MB/s eta 0:00:01\n",
      "   ------------------------------------ --- 14.1/15.5 MB 14.9 MB/s eta 0:00:01\n",
      "   -------------------------------------- - 14.8/15.5 MB 14.6 MB/s eta 0:00:01\n",
      "   ---------------------------------------  15.5/15.5 MB 14.9 MB/s eta 0:00:01\n",
      "   ---------------------------------------  15.5/15.5 MB 14.9 MB/s eta 0:00:01\n",
      "   ---------------------------------------- 15.5/15.5 MB 13.9 MB/s eta 0:00:00\n",
      "Downloading pytz-2023.3.post1-py2.py3-none-any.whl (502 kB)\n",
      "   ---------------------------------------- 0.0/502.5 kB ? eta -:--:--\n",
      "   --------------------------------------- 502.5/502.5 kB 10.5 MB/s eta 0:00:00\n",
      "Installing collected packages: pytz, tzdata, numpy, pandas\n",
      "Successfully installed numpy-1.26.2 pandas-2.1.4 pytz-2023.3.post1 tzdata-2023.3\n"
     ]
    }
   ],
   "source": [
    "%pip install pandas\n"
   ]
  },
  {
   "cell_type": "code",
   "execution_count": null,
   "metadata": {},
   "outputs": [],
   "source": [
    "%find pandas "
   ]
  },
  {
   "cell_type": "markdown",
   "metadata": {},
   "source": [
    "Retient ces sites!!\n",
    "\n",
    "Site d'exercice sur le ML avec le principe qu'on maitrise le code\n",
    "https://www.kaggle.com/\n",
    "\n",
    "AI\n",
    "https://bard.google.com/?hl=fr"
   ]
  },
  {
   "cell_type": "markdown",
   "metadata": {},
   "source": [
    "Conversion Température:\n",
    "Créez une fonction qui permet de convertir des degrés Celsius en Fahrenheit et vice versa\n",
    "\n",
    "convert(18, C) -> Converti 18°C en Fahrenheit \n",
    "convert(72, F) -> Converti 72°F en Celcius\n",
    "\n",
    "Calcul moyenne\n",
    "A partir des éléments suivants :\n",
    "| Prénom   | Mathématiques (Note 1) | Mathématiques (Note 2) | Français (Note 1) | Français (Note 2) | Français (Note 3) | Histoire |\n",
    "|----------|------------------------|------------------------|-------------------|-------------------|-------------------|----------|\n",
    "| Lucas    | 17                     | 18                     | 15                | 16                | 19                | 17       |\n",
    "| Emma     | 18                     | 17                     | 19                | 18                | 18                | 16       |\n",
    "| Gabriel  | 16                     | 17                     | 16                | 15                | 17                | 18       |\n",
    "| Mia      | 18                     | 17                     | 16                | 18                | 18                | 15       |\n",
    "| Noah     | 17                     | 18                     | 18                | 18                | 16                | 17       |\n",
    "| Charlotte| 18                     | 18                     | 19                | 17                | 19                | 17       |\n",
    "| Ethan    | 16                     | 17                     | 15                | 16                | 15                | 19       |\n",
    "| Sophia   | 19                     | 18                     | 17                | 19                | 18                | 15       |\n",
    "| Liam     | 18                     | 17                     | 18                | 19                | 17                | 18       |\n",
    "| Olivia   | 16                     | 18                     | 17                | 16                | 18                | 16       |\n",
    "\n",
    "Calculer la moyenne en francais, en maths, en histoire et la moyenne générale\n",
    "Ordonner la liste d'élèves en fonctions des moyennes en francais, en maths, en histoire et générale"
   ]
  },
  {
   "cell_type": "code",
   "execution_count": 2,
   "metadata": {},
   "outputs": [
    {
     "ename": "SyntaxError",
     "evalue": "invalid syntax (1201899671.py, line 2)",
     "output_type": "error",
     "traceback": [
      "\u001b[1;36m  Cell \u001b[1;32mIn[2], line 2\u001b[1;36m\u001b[0m\n\u001b[1;33m    SELECT Penom\u001b[0m\n\u001b[1;37m           ^\u001b[0m\n\u001b[1;31mSyntaxError\u001b[0m\u001b[1;31m:\u001b[0m invalid syntax\n"
     ]
    }
   ],
   "source": [
    "#CORRECTION\n",
    "SELECT Penom IN"
   ]
  }
 ],
 "metadata": {
  "interpreter": {
   "hash": "4822798685b95d90cac6b9eac85a216cd3011e561666c6311e8088bbadca8e0f"
  },
  "kernelspec": {
   "display_name": "Python 3 (ipykernel)",
   "language": "python",
   "name": "python3"
  },
  "language_info": {
   "codemirror_mode": {
    "name": "ipython",
    "version": 3
   },
   "file_extension": ".py",
   "mimetype": "text/x-python",
   "name": "python",
   "nbconvert_exporter": "python",
   "pygments_lexer": "ipython3",
   "version": "3.12.1"
  }
 },
 "nbformat": 4,
 "nbformat_minor": 4
}
