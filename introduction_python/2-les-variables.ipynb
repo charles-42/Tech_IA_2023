{
 "cells": [
  {
   "cell_type": "markdown",
   "metadata": {},
   "source": [
    "# Les variables et les types de variables"
   ]
  },
  {
   "cell_type": "markdown",
   "metadata": {},
   "source": [
    "## Les variables"
   ]
  },
  {
   "cell_type": "markdown",
   "metadata": {},
   "source": [
    "### Déclarer une variable"
   ]
  },
  {
   "cell_type": "code",
   "execution_count": null,
   "metadata": {},
   "outputs": [],
   "source": [
    "formateur = \"Charles\"\n",
    "\n",
    "nombre_apprenants = 12\n",
    "\n",
    "# double déclaration\n",
    "apprenant = eleve = \"Antoine\"\n",
    "print(eleve)\n",
    "print(apprenant)\n",
    "\n",
    "\n",
    "\n",
    "apprenant = \"Patrick\"\n",
    "print(eleve)\n",
    "print(apprenant)"
   ]
  },
  {
   "cell_type": "markdown",
   "metadata": {},
   "source": [
    "### Afficher une variable"
   ]
  },
  {
   "cell_type": "code",
   "execution_count": null,
   "metadata": {},
   "outputs": [],
   "source": [
    "# affichage d'une variable\n",
    "print(formateur)\n",
    "\n",
    "# affichage de plusieurs éléments \n",
    "print(\"nombre_apprenants:\",  nombre_apprenants)\n",
    "\n",
    "print(formateur, nombre_apprenants, eleve)\n",
    "\n",
    "\n",
    "# commentaire avec l'attribut format\n",
    "print( \"{} a {} apprenants dans sa formation, dont:  {}\".format(formateur,nombre_apprenants,apprenant))\n",
    "\n",
    "\n",
    "# commentaires avec les f-strings\n",
    "print( f\"{formateur} a {nombre_apprenants} apprenants dans sa formation, dont:  {apprenant}\")\n",
    "\n",
    "print (f\"{formateur=}\")\n"
   ]
  },
  {
   "cell_type": "code",
   "execution_count": null,
   "metadata": {},
   "outputs": [],
   "source": [
    "ma_liste = [formateur,eleve,nombre_apprenants]\n",
    "\n",
    "print( \"{} a {} apprenants dans sa formation, dont:  {}\".format(*ma_liste))"
   ]
  },
  {
   "cell_type": "markdown",
   "metadata": {},
   "source": [
    "### Modifier une variable"
   ]
  },
  {
   "cell_type": "code",
   "execution_count": null,
   "metadata": {},
   "outputs": [],
   "source": [
    "eleve = \"Antoine\"\n",
    "\n",
    "eleve = \"Denis\"\n",
    "\n",
    "nombre_apprenants_plus_deux = nombre_apprenants + 2\n",
    "nombre_apprenants_plus_deux\n",
    "\n",
    "nombre_apprenants = nombre_apprenants + 2\n",
    "nombre_apprenants\n",
    "\n",
    "nombre_apprenants += 2\n",
    "\n",
    "print(\"nombre_apprenants: \", nombre_apprenants)\n",
    "print(\"apprenant: \", apprenant)\n",
    "print(\"eleve: \", eleve)\n",
    "\n",
    "eleve = 7\n",
    "print(eleve)"
   ]
  },
  {
   "cell_type": "markdown",
   "metadata": {},
   "source": [
    "### Supprimer une variable"
   ]
  },
  {
   "cell_type": "code",
   "execution_count": null,
   "metadata": {},
   "outputs": [],
   "source": [
    "eleve = \"Denis\"\n",
    "\n",
    "eleves = \"Antoine\"\n"
   ]
  },
  {
   "cell_type": "code",
   "execution_count": null,
   "metadata": {},
   "outputs": [],
   "source": [
    "del eleves"
   ]
  },
  {
   "cell_type": "markdown",
   "metadata": {},
   "source": [
    "### Nommer une variable avec la Pep-8"
   ]
  },
  {
   "cell_type": "markdown",
   "metadata": {},
   "source": [
    "- Mettez un espace avant et après le signe égal\n",
    "   - apprenant = \"Charles\" et non apprenant=\"Charles\"\n",
    "- Utilisez des noms descriptifs dans votre code.\n",
    "   - exemple: Au lieu de  quantite  (ou pire,qte), ajoutez des détails :quantite_en_stock,solde_actuel, etc.\n",
    "- Utilisez des mots complets.\n",
    "   - exemple,revenu_annuelest plus clair querev_annuel.\n",
    "- Suivez une convention d’appellation commune.\n",
    "   - le snake case : des noms composés de plusieurs mots séparés par des tirets bas(_)\n",
    "      - exemple nombre_de_chats,  reponse_finale  ,  le_meilleur_developpeur_python_du_monde, etc.\n",
    "   - commencez avec une lettre minuscule (surtout pas par un nombre)\n",
    "   - Utilisez uniquement des caractères alphanumériques et des tirets bas... et donc pas d'accents !\n",
    "- N’oubliez pas que les noms de variables sont sensibles à la casse.\n",
    "   - age,  Age  et  AGE  sont trois variables différentes. "
   ]
  },
  {
   "cell_type": "markdown",
   "metadata": {},
   "source": [
    "### S'exercer à manipuler les variables"
   ]
  },
  {
   "cell_type": "markdown",
   "metadata": {},
   "source": [
    "**`Exercice`**: créez l'état civil de votre voisin \n",
    "- déclarer les variables nom, prénom et deuxième prénom puis une variable nom complet à l'aide des trois précédentes en les concaténant à l'aide de l'opérateur + \n",
    "- déclarer les variables année actuelle et année de naissance puis créer la variable âge à l'aide des deux pécédentes en les soustrayant\n",
    "- remplacer la valeur de la variable nom par celle de nom complet puis supprimer la variable nom complet"
   ]
  },
  {
   "cell_type": "code",
   "execution_count": null,
   "metadata": {},
   "outputs": [],
   "source": [
    "prenom = \"Aminata\"\n",
    "nom = \"Camara\"\n",
    "deuxieme_prenom = \"Magath\"\n",
    "nom_complet = prenom + '' + deuxieme_prenom + '' + nom\n",
    "\n",
    "print(f\"Elle s'appelle {nom_complet}\")\n"
   ]
  },
  {
   "cell_type": "code",
   "execution_count": null,
   "metadata": {},
   "outputs": [],
   "source": [
    "annee_actuelle = 2023\n",
    "\n",
    "date_naissance = 1994\n",
    "\n",
    "age = annee_actuelle - date_naissance\n",
    "\n",
    "print(f\"{prenom} a donc {age} ans\")"
   ]
  },
  {
   "cell_type": "code",
   "execution_count": null,
   "metadata": {},
   "outputs": [],
   "source": [
    "nom = nom_complet\n",
    "print(f\"{nom}\")"
   ]
  },
  {
   "cell_type": "code",
   "execution_count": null,
   "metadata": {},
   "outputs": [],
   "source": [
    "print(f\"Elle s'appele {nom} et elle a {age} ans\")"
   ]
  },
  {
   "cell_type": "markdown",
   "metadata": {},
   "source": [
    "## Les types primitifs de variable"
   ]
  },
  {
   "cell_type": "code",
   "execution_count": null,
   "metadata": {},
   "outputs": [],
   "source": [
    "# Les \"integers\", ou nombres entiers en français\n",
    "nombre_apprentants = 7\n",
    "print(type(nombre_apprentants),nombre_apprentants)"
   ]
  },
  {
   "cell_type": "code",
   "execution_count": null,
   "metadata": {},
   "outputs": [],
   "source": [
    "# Les \"floats\", ou nombres à virgule en français\n",
    "age_moyen_promo = 25.0\n",
    "print(type(age_moyen_promo), age_moyen_promo)"
   ]
  },
  {
   "cell_type": "code",
   "execution_count": null,
   "metadata": {},
   "outputs": [],
   "source": [
    "# Les \"strings\" (str), ou chaines de caractères en français\n",
    "apprenant = \"Charles\"\n",
    "print(type(apprenant), apprenant)"
   ]
  },
  {
   "cell_type": "code",
   "execution_count": null,
   "metadata": {},
   "outputs": [],
   "source": [
    "# Les \"Booléens\" (bool), ou booléen en français, c'est à dire vrai ou faux\n",
    "booleen_vrai = True\n",
    "booleen_faux = False\n",
    "\n",
    "est_ce_que_1_est_supérieur_a_2 = 1 > 2\n",
    "\n",
    "print(type(est_ce_que_1_est_supérieur_a_2),est_ce_que_1_est_supérieur_a_2)"
   ]
  },
  {
   "cell_type": "markdown",
   "metadata": {},
   "source": [
    "## Les integers et les floats en détail "
   ]
  },
  {
   "cell_type": "markdown",
   "metadata": {},
   "source": [
    "### Opérations sur les integers et les floats"
   ]
  },
  {
   "cell_type": "code",
   "execution_count": null,
   "metadata": {},
   "outputs": [],
   "source": [
    "x = 12.5\n",
    "y = 3\n",
    "\n",
    "#la somme de x et y (x plus y).\n",
    "somme = x + y   \n",
    "print (f\"{somme=}\")\n",
    "\n",
    "#la différence entre x et y \n",
    "difference = x - y \n",
    "print (f\"{difference=}\")\n",
    "\n",
    "#le produit de x et y\n",
    "produit = x * y \n",
    "print (f\"{produit=}\")\n",
    "\n",
    "# le quotient de x et y (x divisé par y).\n",
    "quotient = x / y \n",
    "print (f\"{quotient=}\")\n",
    "\n",
    "# le quotient de x et y sans reste.\n",
    "quotient_sans_reste = x // y \n",
    "print (f\"{quotient_sans_reste=}\")\n",
    "\n",
    "# le reste de x divisé par y.\n",
    "reste = x % y  \n",
    "print (f\"{reste=}\")\n",
    "\n",
    "# x à la puissance y\n",
    "puissance = x**y\n",
    "print (f\"{puissance=}\")"
   ]
  },
  {
   "cell_type": "markdown",
   "metadata": {},
   "source": [
    "**`Exercice 1`**: Quelle est la valeur prise par z? (de tête)"
   ]
  },
  {
   "cell_type": "code",
   "execution_count": null,
   "metadata": {},
   "outputs": [],
   "source": [
    "x = 13\n",
    "y = 4"
   ]
  },
  {
   "cell_type": "code",
   "execution_count": null,
   "metadata": {},
   "outputs": [],
   "source": [
    "\n",
    "z = x > (( x // y ) * y) + (x % y) \n",
    "z\n"
   ]
  },
  {
   "cell_type": "markdown",
   "metadata": {},
   "source": [
    "**`Exercice 2`**: Add parentheses to the following expression so that it evaluates to 1."
   ]
  },
  {
   "cell_type": "code",
   "execution_count": null,
   "metadata": {},
   "outputs": [],
   "source": [
    "print( (5 - 3 )// 2)"
   ]
  },
  {
   "cell_type": "markdown",
   "metadata": {},
   "source": [
    "**`Exercice 3`**: Add parentheses to the following expression so that it evaluates to 0."
   ]
  },
  {
   "cell_type": "code",
   "execution_count": null,
   "metadata": {},
   "outputs": [],
   "source": [
    "print((8 - 3) *( 2 - (1 + 1)))"
   ]
  },
  {
   "cell_type": "markdown",
   "metadata": {},
   "source": [
    "**`Exercice 4`**: \n",
    "Alice, Bob and Carol have agreed to pool their Halloween candy and split it evenly among themselves. For the sake of their friendship, any candies left over will be smashed. For example, if they collectively bring home 91 candies, they'll take 30 each and smash 1.\n",
    "\n",
    "Write an arithmetic expression below to calculate how many candies they must smash for a given haul."
   ]
  },
  {
   "cell_type": "code",
   "execution_count": null,
   "metadata": {},
   "outputs": [],
   "source": [
    "# Variables representing the number of candies collected by alice, bob, and carol\n",
    "alice_candies = 121\n",
    "bob_candies = 77\n",
    "carol_candies = 109\n",
    "\n",
    "# Your code goes here! Replace the right-hand side of this assignment with an expression\n",
    "# involving alice_candies, bob_candies, and carol_candies\n",
    "\n"
   ]
  },
  {
   "cell_type": "markdown",
   "metadata": {},
   "source": [
    "### fonctions utiles liées aux integers ou aux float "
   ]
  },
  {
   "cell_type": "code",
   "execution_count": null,
   "metadata": {},
   "outputs": [],
   "source": [
    "x = -22.9876\n",
    "\n",
    "# Valeur absolue de x\n",
    "abs(x)\n",
    "\n",
    "# obtenir l'arrondi d'un float\n",
    "round(x,2) #arrondit à 2 chiffres après la virgule; le deuxième chiffre déclare la limite jusqu'à où le float doit aller\n",
    "\n",
    "# Convert an object to integer\n",
    "s = \"8\"\n",
    "\n",
    "type(s)\n",
    "\n",
    "s*8\n",
    "\n",
    "s_as_an_integer = int(s)\n",
    "\n",
    "8 * s_as_an_integer\n",
    "\n",
    "\n",
    "# Convert an object to float\n",
    "\n",
    "s_as_a_float = float(s_as_an_integer)\n",
    "s_as_a_float\n"
   ]
  },
  {
   "cell_type": "markdown",
   "metadata": {},
   "source": [
    "PLus de méthodes dans la documentation: https://docs.python.org/3/library/stdtypes.html"
   ]
  },
  {
   "cell_type": "markdown",
   "metadata": {},
   "source": [
    "## Les strings en détail"
   ]
  },
  {
   "cell_type": "markdown",
   "metadata": {},
   "source": [
    "### Les astuces concernant les strings"
   ]
  },
  {
   "cell_type": "code",
   "execution_count": null,
   "metadata": {},
   "outputs": [],
   "source": [
    "# Pour utiliser le symbole ` dans une string il faut écrire \\``\t\n",
    "a_string = \"J'aime \\\"le\\\" Python!\"\n",
    "print(a_string)\n",
    "\n",
    "# Pour sauter une ligne \\n\n",
    "a_string_with_a_space =\t\"a line \\n to an another\"\n",
    "\n",
    "\n",
    "print(a_string_with_a_space)"
   ]
  },
  {
   "cell_type": "markdown",
   "metadata": {},
   "source": [
    "### Le parcours des chaines de caractères"
   ]
  },
  {
   "cell_type": "code",
   "execution_count": null,
   "metadata": {},
   "outputs": [],
   "source": [
    "indice = 2\n",
    "the_string = \"string\"\n",
    "\n",
    "# Renvoie le n ème élément d'une liste \n",
    "print(the_string[indice]) \n",
    "\n",
    "#eg the_string[2]"
   ]
  },
  {
   "cell_type": "markdown",
   "metadata": {},
   "source": [
    "### fonctions utiles"
   ]
  },
  {
   "cell_type": "code",
   "execution_count": null,
   "metadata": {},
   "outputs": [],
   "source": [
    "# Renvoie le nombre de caractère dans la string\n",
    "len(the_string)"
   ]
  },
  {
   "cell_type": "markdown",
   "metadata": {},
   "source": [
    "### Les méthodes de la classe str"
   ]
  },
  {
   "cell_type": "code",
   "execution_count": null,
   "metadata": {},
   "outputs": [],
   "source": [
    "my_string = \"quelle belle journée belle journée\"\n",
    "\n",
    "# Mettre tout en minuscule\n",
    "lower_string = my_string.lower()\n",
    "lower_string\n",
    "\n",
    "# Mettre tout en majuscule\n",
    "upper_string = my_string.upper()\n",
    "upper_string\n",
    "\n",
    "# Mettre une majuscule au début\n",
    "capitalized_string = my_string.capitalize()\n",
    "capitalized_string\n",
    "\n",
    "# Remplacez une expression\n",
    "replaced_string = my_string.replace(\"journée\", \"soirée\")\n",
    "replaced_string\n",
    "\n",
    "# Cherchez un bout de la chaine\n",
    "emplacement_de_belle = my_string.find(\"belle\", 8)#a partir de la première \"belle\" qui a été répéré en gros\n",
    "emplacement_de_belle\n",
    "\n",
    "\n",
    "# Compte le nombre de fois ou apparait un caractère\n",
    "count_string = my_string.count(\"l\")\n",
    "count_string\n",
    "\n",
    "\n",
    "\n",
    "# Remplace les {} par la valeur définie dans format\n",
    "my_string = \"Quelle {} et {} journée\".format(\"belle\", \"bonne\")\n",
    "my_string = \"Quelle {adjectif_1} et {adjectif_2} journée\".format(adjectif_2=\"belle\", adjectif_1=\"bonne\")\n",
    "\n"
   ]
  },
  {
   "cell_type": "code",
   "execution_count": null,
   "metadata": {},
   "outputs": [],
   "source": [
    "my_string = \"quelle belle journée belle journée\"\n",
    "\n",
    "# Mettre tout en minuscule\n",
    "lower_string = my_string.lower()\n",
    "lower_string\n"
   ]
  },
  {
   "cell_type": "code",
   "execution_count": null,
   "metadata": {},
   "outputs": [],
   "source": [
    "# Mettre tout en majuscule\n",
    "upper_string = my_string.upper()\n",
    "upper_string\n"
   ]
  },
  {
   "cell_type": "code",
   "execution_count": null,
   "metadata": {},
   "outputs": [],
   "source": [
    "# Remplacez une expression\n",
    "replaced_string = my_string.replace(\"journée\", \"soirée\")\n",
    "replaced_string\n"
   ]
  },
  {
   "cell_type": "code",
   "execution_count": null,
   "metadata": {},
   "outputs": [],
   "source": [
    "# Cherchez un bout de la chaine\n",
    "emplacement_de_belle = my_string.find(\"belle\", 8)\n",
    "emplacement_de_belle"
   ]
  },
  {
   "cell_type": "code",
   "execution_count": null,
   "metadata": {},
   "outputs": [],
   "source": [
    "# Compte le nombre de fois ou apparait un caractère\n",
    "count_string = my_string.count(\"l\")\n",
    "count_string"
   ]
  },
  {
   "cell_type": "code",
   "execution_count": null,
   "metadata": {},
   "outputs": [],
   "source": [
    "\n",
    "# Remplace les {} par la valeur définie dans format\n",
    "my_string = \"Quelle {} et {} journée\".format(\"belle\", \"bonne\")\n",
    "my_string = \"Quelle {adjectif_1} et {adjectif_2} journée\".format(adjectif_2=\"belle\", adjectif_1=\"bonne\")\n"
   ]
  },
  {
   "cell_type": "code",
   "execution_count": null,
   "metadata": {},
   "outputs": [],
   "source": [
    "print(\"my_string :\", my_string)\n",
    "print(f\"{my_string=}\")"
   ]
  },
  {
   "cell_type": "markdown",
   "metadata": {},
   "source": [
    "**`Exercice`**: travaillez sur la définition de python \n",
    "- remplacez python par lovely python partout dans la chaine de caractère suivante\n",
    "- Affichez la chaine suivante en une seule chaine de caractères en sautant une ligne entre chaque phrase et en faisant commencer chaque phrase par une majuscule.\n",
    "    \n",
    "indice: \n",
    "- On calcule le nombre d'élément d'une liste de la meme manière qu'on calcule la longueur d'une chaine de caratère\n",
    "- On accède au nème éléments d'une liste de la même manière qu'on accède nème caractère d'une chaine de caractères."
   ]
  },
  {
   "cell_type": "code",
   "execution_count": null,
   "metadata": {},
   "outputs": [],
   "source": [
    "python_definition = \"python is an interpreted high-level general-purpose programming language. its design philosophy emphasizes code readability with its use of significant indentation. its language constructs as well as its object-oriented approach aim to help programmers write clear, logical code for small and large-scale projects.\"\n"
   ]
  },
  {
   "cell_type": "code",
   "execution_count": 59,
   "metadata": {},
   "outputs": [
    {
     "name": "stdout",
     "output_type": "stream",
     "text": [
      "python is an interpreted high-level general-purpose programming language. its design philosophy emphasizes code readability with its use of significant indentation. its language constructs as well as its object-oriented approach aim to help programmers write clear, logical code for small and large-scale projects.\n",
      "Lovely python is an interpreted high-level general-purpose programming language.\n",
      "80\n",
      "Its design philosophy emphasizes code readability with its use of significant indentation.\n",
      "90\n",
      "Its language constructs as well as its object-oriented approach aim to help programmers write clear, logical code for small and large-scale projects.\n",
      "149\n"
     ]
    }
   ],
   "source": [
    "python_definition = \"python is an interpreted high-level general-purpose programming language. its design philosophy emphasizes code readability with its use of significant indentation. its language constructs as well as its object-oriented approach aim to help programmers write clear, logical code for small and large-scale projects.\"\n",
    "print(python_definition)\n",
    "\n",
    "my_string = \"lovely python\"\n",
    "emplacement_de_python = python_definition.find(\"python\")\n",
    "\n",
    "replaced_string = python_definition.replace(\"python\", my_string)\n",
    "\n",
    "my_s1=\"lovely python is an interpreted high-level general-purpose programming language.\"\n",
    "my_s2=\"its design philosophy emphasizes code readability with its use of significant indentation.\"\n",
    "my_s3= \"its language  constructs as well as its object-oriented approach aim to help programmers write clear, logical code for small and large-scale projects.\"\n",
    "\n",
    "\n",
    "capitalized_s1 = my_s1.capitalize()\n",
    "capitalized_s2 = my_s2.capitalize()\n",
    "capitalized_s3 = my_s3.capitalize()\n",
    "\n",
    "print(capitalized_s1)\n",
    "print(len(capitalized_s1))\n",
    "\n",
    "print(capitalized_s2)\n",
    "print(len(capitalized_s2))\n",
    "\n",
    "print(capitalized_s3)\n",
    "print(len(capitalized_s3))\n"
   ]
  },
  {
   "cell_type": "code",
   "execution_count": 61,
   "metadata": {},
   "outputs": [
    {
     "name": "stdout",
     "output_type": "stream",
     "text": [
      "Lovely python is an interpreted high-level general-purpose programming language.\n",
      "Its design philosophy emphasizes code readability with its use of significant indentation.\n",
      "Its language constructs as well as its object-oriented approach aim to help programmers write clear, logical code for small and large-scale projects.\n"
     ]
    }
   ],
   "source": [
    "#ou\n",
    "python_definition = \"python is an interpreted high-level general-purpose programming language. its design philosophy emphasizes code readability with its use of significant indentation. its language constructs as well as its object-oriented approach aim to help programmers write clear, logical code for small and large-scale projects.\"\n",
    "# on commence par remplacer python par lovely python\n",
    "python_definition = python_definition.replace(\"python\", \"lovely python\")\n",
    "\n",
    "# on insère les retours à la ligne en remplaçant les espace après les points par \\n\n",
    "python_definition = python_definition.replace(\". \", \".\\n\")\n",
    "\n",
    "# on recherche les indices des points pour pouvoir slicer (découper) les chaines de caractère\n",
    "indice_premier_point = python_definition.find(\".\")\n",
    "indice_deuxième_point = python_definition.find(\".\",indice_premier_point+1 )\n",
    "\n",
    "# on découpe chacune des phrases pour mettre la première lettre en majuscule\n",
    "première_phrase = python_definition[0:indice_premier_point+2].capitalize()\n",
    "deuxième_phrase = python_definition[indice_premier_point+2:indice_deuxième_point+2].capitalize()\n",
    "troisieme_phrase = python_definition[indice_deuxième_point+2:].capitalize()\n",
    "\n",
    "print(première_phrase + deuxième_phrase + troisieme_phrase)\n"
   ]
  },
  {
   "cell_type": "markdown",
   "metadata": {},
   "source": [
    "## Les booléens en détail"
   ]
  },
  {
   "cell_type": "code",
   "execution_count": null,
   "metadata": {},
   "outputs": [],
   "source": [
    "true = True\n",
    "a = 8\n",
    "\n",
    "b =\"8\""
   ]
  },
  {
   "cell_type": "code",
   "execution_count": null,
   "metadata": {},
   "outputs": [],
   "source": [
    "8.0 == 8\n"
   ]
  },
  {
   "cell_type": "code",
   "execution_count": null,
   "metadata": {},
   "outputs": [],
   "source": [
    "true = True\n",
    "false = False\n",
    "\n",
    "\n",
    "x = 8\n",
    "y = 9\n",
    "z = [7 ,8 ]\n",
    "\n",
    "\"\"\"Les booléens sont souvent le résultat d'une comparaison \"\"\"\n",
    "\n",
    "print( x == y ) #equal\n",
    "\n",
    "print( x != y ) # not equal\n",
    "\n",
    "print( x < y ) #strictly less than\n",
    "\n",
    "print( x <= y ) #less than or equal\n",
    "\n",
    "print( x > y ) #strictly greater than\n",
    "\n",
    "print( x >= y ) #greater than or equal\n",
    "\n",
    "\"\"\" ou le résultat d'affirmation \"\"\"\n",
    "\n",
    "print (isinstance(x,int))\n",
    "\n",
    "print( x in z) # appartenir\n",
    "\n",
    "print( y not in z ) # ou ne pas appartenir\n",
    "\n",
    "\"\"\" enfin ils peuvent être combiné grâve à des opérateurs logique \"\"\"\n",
    "t = True\n",
    "f = False\n",
    "\n",
    "print( t and f) # s'écrit aussi &\n",
    "print( t or f) # s'écrit aussi | \n",
    "print( not t)\n",
    "print( not f)\n"
   ]
  },
  {
   "cell_type": "code",
   "execution_count": null,
   "metadata": {},
   "outputs": [],
   "source": [
    "if 0:\n",
    "    print(\"hello\")\n",
    "\n",
    "    #vu que \"0\" c'est négatif la condition n'est pas affichhé lors exécution\n",
    "    #cependant si c'était une autre numméro la fonction s'affichera"
   ]
  },
  {
   "cell_type": "code",
   "execution_count": 64,
   "metadata": {},
   "outputs": [
    {
     "name": "stdout",
     "output_type": "stream",
     "text": [
      "hello\n"
     ]
    }
   ],
   "source": [
    "if 1:\n",
    "    print(\"hello\")"
   ]
  },
  {
   "cell_type": "code",
   "execution_count": 62,
   "metadata": {},
   "outputs": [
    {
     "data": {
      "text/plain": [
       "False"
      ]
     },
     "execution_count": 62,
     "metadata": {},
     "output_type": "execute_result"
    }
   ],
   "source": [
    "bool(\"\")"
   ]
  },
  {
   "cell_type": "code",
   "execution_count": null,
   "metadata": {},
   "outputs": [],
   "source": []
  }
 ],
 "metadata": {
  "kernelspec": {
   "display_name": "Python 3.9.12 ('env': venv)",
   "language": "python",
   "name": "python3"
  },
  "language_info": {
   "codemirror_mode": {
    "name": "ipython",
    "version": 3
   },
   "file_extension": ".py",
   "mimetype": "text/x-python",
   "name": "python",
   "nbconvert_exporter": "python",
   "pygments_lexer": "ipython3",
   "version": "3.12.1"
  },
  "orig_nbformat": 2,
  "vscode": {
   "interpreter": {
    "hash": "f9351f71b73ea8a230435cc436bb534a46778c892f07a974c8047a435918be1c"
   }
  }
 },
 "nbformat": 4,
 "nbformat_minor": 2
}
