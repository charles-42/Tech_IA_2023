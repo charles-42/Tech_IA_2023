{
 "cells": [
  {
   "cell_type": "markdown",
   "metadata": {},
   "source": [
    "<u> Règles Pep8: </u>  \n",
    "Pep 8 sur les commentaires. \n",
    "- Ecrivez des phrases complètes, ponctuées et compréhensibles. \n",
    "- Le commentaire doit être cohérent avec le code. \n",
    "- Il doit suivre la même indentation que le code qu'il commente. \n",
    "- Evitez d'enfoncer des portes ouvertes :    \n",
    "- ne décrivez pas le code,    \n",
    "- expliquez plutôt à quoi il sert. \n",
    "- Il doit être en anglais."
   ]
  },
  {
   "cell_type": "markdown",
   "metadata": {},
   "source": [
    "\n",
    "<style color = \"blue\"> \n",
    "<h >My life </h>\n",
    "<p>Hey how are you going?\n",
    "Went all the way to Africa a few months ago.\n",
    "Had so much fun!\n",
    "How about you?</p)>\n",
    "\n",
    "Link to my site :  [link](https://en.wikipedia.org/wiki/Zen_of_Python)\n"
   ]
  },
  {
   "cell_type": "markdown",
   "metadata": {},
   "source": [
    "\n",
    "\n",
    "<h> Python core philosphy </h>\n",
    "\n",
    "<p>Its core philosophy is summarized in the document The Zen of Python (PEP 20), which includes aphorisms such as:[72]\n",
    "<p font color=\"blue\">Beautiful is better than ugly.</p>\n",
    "Explicit is better than implicit.</p>\n",
    "Simple is better than complex.</p>\n",
    "Complex is better than complicated.</p>\n",
    "Readability counts.</p>\n",
    "\n",
    "Click on the [link](https://en.wikipedia.org/wiki/Zen_of_Python) to see the site"
   ]
  }
 ],
 "metadata": {
  "language_info": {
   "name": "python"
  }
 },
 "nbformat": 4,
 "nbformat_minor": 2
}
